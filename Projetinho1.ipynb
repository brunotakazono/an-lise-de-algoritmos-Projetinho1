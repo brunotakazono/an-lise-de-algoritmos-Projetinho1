{
 "cells": [
  {
   "cell_type": "code",
   "execution_count": 31,
   "id": "f2c82c58",
   "metadata": {},
   "outputs": [],
   "source": [
    "import random\n",
    "import numpy as np\n",
    "import pandas as pd\n",
    "import sys\n",
    "import time\n",
    "from random import randrange\n",
    "np.set_printoptions(threshold=sys.maxsize)"
   ]
  },
  {
   "cell_type": "code",
   "execution_count": 32,
   "id": "59fcba38",
   "metadata": {},
   "outputs": [],
   "source": [
    "m = (randrange(10,20))\n",
    "n = random.sample(range(10,10000),10)\n",
    "n = np.array(n)"
   ]
  },
  {
   "cell_type": "code",
   "execution_count": 33,
   "id": "002a615b",
   "metadata": {},
   "outputs": [
    {
     "data": {
      "text/plain": [
       "12"
      ]
     },
     "execution_count": 33,
     "metadata": {},
     "output_type": "execute_result"
    }
   ],
   "source": [
    "m"
   ]
  },
  {
   "cell_type": "code",
   "execution_count": 34,
   "id": "a9145eac",
   "metadata": {},
   "outputs": [
    {
     "data": {
      "text/plain": [
       "array([  23,  754, 2124, 3675, 4610, 4799, 4963, 5964, 8660, 9712])"
      ]
     },
     "execution_count": 34,
     "metadata": {},
     "output_type": "execute_result"
    }
   ],
   "source": [
    "n.sort()\n",
    "n"
   ]
  },
  {
   "cell_type": "code",
   "execution_count": 35,
   "id": "44c47ba6",
   "metadata": {},
   "outputs": [],
   "source": [
    "def insertionSort(array):\n",
    "    for i in range(1, len(array)):\n",
    "        \n",
    "        key = array[i]\n",
    "\n",
    "        j = i - 1\n",
    "        while j >= 0 and array[j] > key:\n",
    "            \n",
    "            array[j + 1] = array[j]\n",
    "            array[j] = key\n",
    "            \n",
    "\n",
    "            j -= 1\n",
    "\n",
    "    return array"
   ]
  },
  {
   "cell_type": "code",
   "execution_count": 36,
   "id": "6101744d",
   "metadata": {
    "scrolled": true
   },
   "outputs": [],
   "source": [
    "def insertionMergeSort(array):\n",
    "    if len(array) <= 100:\n",
    "        for i in range(1, len(array)):\n",
    "        \n",
    "            key = array[i]\n",
    "\n",
    "            j = i - 1\n",
    "            while j >= 0 and array[j] > key:\n",
    "            \n",
    "                array[j + 1] = array[j]\n",
    "                array[j] = key\n",
    "            \n",
    "\n",
    "                j -= 1\n",
    "\n",
    "        return array\n",
    "    else:\n",
    "        mid = len(array) // 2\n",
    "        left = array[:mid]\n",
    "        right = array[mid:]\n",
    "\n",
    "        # Chamada recursiva para cada metade\n",
    "        insertionMergeSort(left)\n",
    "        insertionMergeSort(right)\n",
    "\n",
    "        # Dois iteradores para percorrer as duas metades\n",
    "        i = 0\n",
    "        j = 0\n",
    "        \n",
    "        # Iterador para array principal\n",
    "        k = 0\n",
    "        \n",
    "        while i < len(left) and j < len(right):\n",
    "            if left[i] <= right[j]:\n",
    "              # O valor da metade esquerda foi usado\n",
    "              array[k] = left[i]\n",
    "              # Incrementar o iterador\n",
    "              i += 1\n",
    "            else:\n",
    "                array[k] = right[j]\n",
    "                j += 1\n",
    "            # Mover para o proximo item do array principal\n",
    "            k += 1\n",
    "\n",
    "        # Para todos os valores restantes pela esquerda e direita\n",
    "        while i < len(left):\n",
    "            array[k] = left[i]\n",
    "            i += 1\n",
    "            k += 1\n",
    "\n",
    "        while j < len(right):\n",
    "            array[k]=right[j]\n",
    "            j += 1\n",
    "            k += 1\n",
    "            \n",
    "        return array"
   ]
  },
  {
   "cell_type": "code",
   "execution_count": 37,
   "id": "42fba14a",
   "metadata": {},
   "outputs": [],
   "source": [
    "def mergeSort(array):\n",
    "    if len(array) > 1:\n",
    "        mid = len(array) // 2\n",
    "        left = array[:mid]\n",
    "        right = array[mid:]\n",
    "\n",
    "        # Chamada recursiva para cada metade\n",
    "        mergeSort(left)\n",
    "        mergeSort(right)\n",
    "\n",
    "        # Dois iteradores para percorrer as duas metades\n",
    "        i = 0\n",
    "        j = 0\n",
    "        \n",
    "        # Iterador para array principal\n",
    "        k = 0\n",
    "        \n",
    "        while i < len(left) and j < len(right):\n",
    "            if left[i] <= right[j]:\n",
    "              # O valor da metade esquerda foi usado\n",
    "              array[k] = left[i]\n",
    "              # Incrementar o iterador\n",
    "              i += 1\n",
    "            else:\n",
    "                array[k] = right[j]\n",
    "                j += 1\n",
    "            # Mover para o proximo item do array principal\n",
    "            k += 1\n",
    "\n",
    "        # Para todos os valores restantes pela esquerda e direita\n",
    "        while i < len(left):\n",
    "            array[k] = left[i]\n",
    "            i += 1\n",
    "            k += 1\n",
    "\n",
    "        while j < len(right):\n",
    "            array[k]=right[j]\n",
    "            j += 1\n",
    "            k += 1\n",
    "            \n",
    "        return array\n"
   ]
  },
  {
   "cell_type": "code",
   "execution_count": 38,
   "id": "7b8b477d",
   "metadata": {},
   "outputs": [],
   "source": [
    "from random import uniform # para gerar os nums aleatorios\n",
    "\n",
    "def criaVetor(LB, RB, tam):\n",
    "    vec = []\n",
    "    for i in range(tam): # vamos fazer isto tam (N) vezes\n",
    "        vec.append(uniform(LB, RB)) # gerar numero aleatorio entre LB e RB, e colocar na nossa lista\n",
    "    vec = np.array(vec)\n",
    "    vec = [round(xx,2) for xx in vec]\n",
    "    return vec"
   ]
  },
  {
   "cell_type": "code",
   "execution_count": 39,
   "id": "e8257145",
   "metadata": {},
   "outputs": [],
   "source": [
    "media_time_insertion_sort_for_n_entries = []\n",
    "media_time_insertion_merge_sort_for_n_entries = []\n",
    "media_time_merge_sort_for_n_entries = []\n",
    "entrada_n = []\n",
    "vetores = {}\n",
    "vetor_time1 = []\n",
    "vetor_time2 = []\n",
    "vetor_time3 = []\n",
    "\n",
    "for j in range(len(n)):\n",
    "    \n",
    "    pf = n[j]\n",
    "    tam = n[j]\n",
    "    LB = -2*(pf)\n",
    "    RB = 2*(pf)\n",
    "    entrada_n.append(pf)\n",
    "    for i in range(m):\n",
    "        vetor = criaVetor(LB, RB, tam)\n",
    "        vetores[i] = vetor\n",
    "    for x in range(len(vetores)):\n",
    "        \n",
    "        st = time.time()\n",
    "        insertionSort(vetores[x])\n",
    "        et = time.time()\n",
    "        elapsed_time = et - st\n",
    "        vetor_time1.append(elapsed_time)\n",
    "    media_time_insertion_sort_for_n_entries.append(np.mean(vetor_time1))\n",
    "\n",
    "    for y in range(len(vetores)):\n",
    "        \n",
    "        st2 = time.time()\n",
    "        mergeSort(vetores[y])\n",
    "        et2 = time.time()\n",
    "        elapsed_time2 = et2 - st2\n",
    "        vetor_time2.append(elapsed_time2)\n",
    "    media_time_merge_sort_for_n_entries.append(np.mean(vetor_time2))\n",
    "    \n",
    "    for z in range(len(vetores)):\n",
    "        \n",
    "        st3 = time.time()\n",
    "        insertionMergeSort(vetores[z])\n",
    "        et3 = time.time()\n",
    "        elapsed_time3 = et3 - st3\n",
    "        vetor_time3.append(elapsed_time3)\n",
    "    media_time_insertion_merge_sort_for_n_entries.append(np.mean(vetor_time3))\n",
    "    vetores.clear()\n",
    "    vetor_time1.clear()\n",
    "    vetor_time2.clear()\n",
    "    vetor_time3.clear()\n",
    "\n",
    "    \n",
    "\n",
    "\n",
    "        \n",
    "\n",
    "        "
   ]
  },
  {
   "cell_type": "code",
   "execution_count": 40,
   "id": "015fe4e2",
   "metadata": {},
   "outputs": [
    {
     "data": {
      "text/plain": [
       "[23, 754, 2124, 3675, 4610, 4799, 4963, 5964, 8660, 9712]"
      ]
     },
     "execution_count": 40,
     "metadata": {},
     "output_type": "execute_result"
    }
   ],
   "source": [
    "entrada_n"
   ]
  },
  {
   "cell_type": "code",
   "execution_count": 41,
   "id": "dbadd3c8",
   "metadata": {},
   "outputs": [
    {
     "data": {
      "text/plain": [
       "[0.0,\n",
       " 28.592745463053387,\n",
       " 232.04835255940756,\n",
       " 727.7998328208923,\n",
       " 1095.4850514729817,\n",
       " 1132.4689388275146,\n",
       " 1205.6877215703328,\n",
       " 1744.1654404004414,\n",
       " 3687.2992714246116,\n",
       " 4654.877781867981]"
      ]
     },
     "execution_count": 41,
     "metadata": {},
     "output_type": "execute_result"
    }
   ],
   "source": [
    "K = 10**3\n",
    "ms_media_time_insertion_sort_for_n_entries = [x * K for x in media_time_insertion_sort_for_n_entries]\n",
    "ms_media_time_insertion_sort_for_n_entries"
   ]
  },
  {
   "cell_type": "code",
   "execution_count": 42,
   "id": "3b78e9b7",
   "metadata": {},
   "outputs": [
    {
     "data": {
      "text/plain": [
       "[0.0,\n",
       " 0.9131232897440592,\n",
       " 2.9952128728230796,\n",
       " 6.646295388539632,\n",
       " 7.147848606109619,\n",
       " 7.481078306833903,\n",
       " 7.64620304107666,\n",
       " 9.222169717152914,\n",
       " 15.705804030100506,\n",
       " 17.45283603668213]"
      ]
     },
     "execution_count": 42,
     "metadata": {},
     "output_type": "execute_result"
    }
   ],
   "source": [
    "K = 10**3\n",
    "ms_media_time_insertion_merge_sort_for_n_entries = [x * K for x in media_time_insertion_merge_sort_for_n_entries]\n",
    "ms_media_time_insertion_merge_sort_for_n_entries"
   ]
  },
  {
   "cell_type": "code",
   "execution_count": 43,
   "id": "32b7f39c",
   "metadata": {},
   "outputs": [
    {
     "data": {
      "text/plain": [
       "[0.08366505304972331,\n",
       " 2.161304155985514,\n",
       " 6.7298611005147295,\n",
       " 12.553592522939047,\n",
       " 15.625099341074627,\n",
       " 16.289949417114258,\n",
       " 16.873677571614582,\n",
       " 20.52938938140869,\n",
       " 31.08346462249756,\n",
       " 35.40500005086263]"
      ]
     },
     "execution_count": 43,
     "metadata": {},
     "output_type": "execute_result"
    }
   ],
   "source": [
    "K = 10**3\n",
    "ms_media_time_merge_sort_for_n_entries = [x * K for x in media_time_merge_sort_for_n_entries]\n",
    "ms_media_time_merge_sort_for_n_entries"
   ]
  },
  {
   "cell_type": "code",
   "execution_count": 44,
   "id": "5efcc3cf",
   "metadata": {},
   "outputs": [
    {
     "data": {
      "text/plain": [
       "<matplotlib.legend.Legend at 0x26f8d307ca0>"
      ]
     },
     "execution_count": 44,
     "metadata": {},
     "output_type": "execute_result"
    },
    {
     "data": {
      "image/png": "[encoded data removed]",
      "text/plain": [
       "<Figure size 432x288 with 1 Axes>"
      ]
     },
     "metadata": {
      "needs_background": "light"
     },
     "output_type": "display_data"
    }
   ],
   "source": [
    "import matplotlib.pyplot as plt\n",
    "\n",
    "fig, plt = plt.subplots(constrained_layout=True)\n",
    "\n",
    "plt.plot(entrada_n, ms_media_time_insertion_sort_for_n_entries, label='Insertion Sort')\n",
    "plt.plot(entrada_n, ms_media_time_insertion_merge_sort_for_n_entries, label='Insertion + Merge Sort')\n",
    "plt.set_xlabel('Entrada N')\n",
    "plt.set_ylabel('Tempo de Execução (miliseconds)')\n",
    "plt.legend()"
   ]
  },
  {
   "cell_type": "code",
   "execution_count": 45,
   "id": "562c7a38",
   "metadata": {},
   "outputs": [
    {
     "data": {
      "text/plain": [
       "<matplotlib.legend.Legend at 0x26f8d351160>"
      ]
     },
     "execution_count": 45,
     "metadata": {},
     "output_type": "execute_result"
    },
    {
     "data": {
      "image/png": "[encoded data removed]",
      "text/plain": [
       "<Figure size 432x288 with 1 Axes>"
      ]
     },
     "metadata": {
      "needs_background": "light"
     },
     "output_type": "display_data"
    }
   ],
   "source": [
    "import matplotlib.pyplot as plt\n",
    "\n",
    "fig, plt = plt.subplots(constrained_layout=True)\n",
    "\n",
    "plt.plot(entrada_n, ms_media_time_insertion_sort_for_n_entries, label='Insertion Sort')\n",
    "plt.plot(entrada_n, ms_media_time_insertion_merge_sort_for_n_entries, label='Insertion + Merge Sort')\n",
    "plt.plot(entrada_n, ms_media_time_merge_sort_for_n_entries, label='Merge Sort')\n",
    "plt.set_xlabel('Entrada N')\n",
    "plt.set_ylabel('Tempo de Execução (miliseconds)')\n",
    "plt.legend()"
   ]
  },
  {
   "cell_type": "code",
   "execution_count": 46,
   "id": "ab5e62f6",
   "metadata": {},
   "outputs": [],
   "source": [
    "tempo_de_execuçao_em_funcao_de_entradas = pd.DataFrame((list(zip(ms_media_time_insertion_sort_for_n_entries,\n",
    "                                                                 ms_media_time_insertion_merge_sort_for_n_entries, \n",
    "                                                                 ms_media_time_merge_sort_for_n_entries, entrada_n))),\n",
    "                                                      columns = ['InsertionSort','Insertion+Merge Sort','MergeSort','Entradas'])"
   ]
  },
  {
   "cell_type": "code",
   "execution_count": 47,
   "id": "be7a1bd4",
   "metadata": {},
   "outputs": [
    {
     "data": {
      "text/html": [
       "<div>\n",
       "<style scoped>\n",
       "    .dataframe tbody tr th:only-of-type {\n",
       "        vertical-align: middle;\n",
       "    }\n",
       "\n",
       "    .dataframe tbody tr th {\n",
       "        vertical-align: top;\n",
       "    }\n",
       "\n",
       "    .dataframe thead th {\n",
       "        text-align: right;\n",
       "    }\n",
       "</style>\n",
       "<table border=\"1\" class=\"dataframe\">\n",
       "  <thead>\n",
       "    <tr style=\"text-align: right;\">\n",
       "      <th></th>\n",
       "      <th>InsertionSort</th>\n",
       "      <th>Insertion+Merge Sort</th>\n",
       "      <th>MergeSort</th>\n",
       "      <th>Entradas</th>\n",
       "    </tr>\n",
       "  </thead>\n",
       "  <tbody>\n",
       "    <tr>\n",
       "      <th>0</th>\n",
       "      <td>0.000000</td>\n",
       "      <td>0.000000</td>\n",
       "      <td>0.083665</td>\n",
       "      <td>23</td>\n",
       "    </tr>\n",
       "    <tr>\n",
       "      <th>1</th>\n",
       "      <td>28.592745</td>\n",
       "      <td>0.913123</td>\n",
       "      <td>2.161304</td>\n",
       "      <td>754</td>\n",
       "    </tr>\n",
       "    <tr>\n",
       "      <th>2</th>\n",
       "      <td>232.048353</td>\n",
       "      <td>2.995213</td>\n",
       "      <td>6.729861</td>\n",
       "      <td>2124</td>\n",
       "    </tr>\n",
       "    <tr>\n",
       "      <th>3</th>\n",
       "      <td>727.799833</td>\n",
       "      <td>6.646295</td>\n",
       "      <td>12.553593</td>\n",
       "      <td>3675</td>\n",
       "    </tr>\n",
       "    <tr>\n",
       "      <th>4</th>\n",
       "      <td>1095.485051</td>\n",
       "      <td>7.147849</td>\n",
       "      <td>15.625099</td>\n",
       "      <td>4610</td>\n",
       "    </tr>\n",
       "    <tr>\n",
       "      <th>5</th>\n",
       "      <td>1132.468939</td>\n",
       "      <td>7.481078</td>\n",
       "      <td>16.289949</td>\n",
       "      <td>4799</td>\n",
       "    </tr>\n",
       "    <tr>\n",
       "      <th>6</th>\n",
       "      <td>1205.687722</td>\n",
       "      <td>7.646203</td>\n",
       "      <td>16.873678</td>\n",
       "      <td>4963</td>\n",
       "    </tr>\n",
       "    <tr>\n",
       "      <th>7</th>\n",
       "      <td>1744.165440</td>\n",
       "      <td>9.222170</td>\n",
       "      <td>20.529389</td>\n",
       "      <td>5964</td>\n",
       "    </tr>\n",
       "    <tr>\n",
       "      <th>8</th>\n",
       "      <td>3687.299271</td>\n",
       "      <td>15.705804</td>\n",
       "      <td>31.083465</td>\n",
       "      <td>8660</td>\n",
       "    </tr>\n",
       "    <tr>\n",
       "      <th>9</th>\n",
       "      <td>4654.877782</td>\n",
       "      <td>17.452836</td>\n",
       "      <td>35.405000</td>\n",
       "      <td>9712</td>\n",
       "    </tr>\n",
       "  </tbody>\n",
       "</table>\n",
       "</div>"
      ],
      "text/plain": [
       "   InsertionSort  Insertion+Merge Sort  MergeSort  Entradas\n",
       "0       0.000000              0.000000   0.083665        23\n",
       "1      28.592745              0.913123   2.161304       754\n",
       "2     232.048353              2.995213   6.729861      2124\n",
       "3     727.799833              6.646295  12.553593      3675\n",
       "4    1095.485051              7.147849  15.625099      4610\n",
       "5    1132.468939              7.481078  16.289949      4799\n",
       "6    1205.687722              7.646203  16.873678      4963\n",
       "7    1744.165440              9.222170  20.529389      5964\n",
       "8    3687.299271             15.705804  31.083465      8660\n",
       "9    4654.877782             17.452836  35.405000      9712"
      ]
     },
     "execution_count": 47,
     "metadata": {},
     "output_type": "execute_result"
    }
   ],
   "source": [
    "tempo_de_execuçao_em_funcao_de_entradas"
   ]
  }
 ],
 "metadata": {
  "kernelspec": {
   "display_name": "Python 3 (ipykernel)",
   "language": "python",
   "name": "python3"
  },
  "language_info": {
   "codemirror_mode": {
    "name": "ipython",
    "version": 3
   },
   "file_extension": ".py",
   "mimetype": "text/x-python",
   "name": "python",
   "nbconvert_exporter": "python",
   "pygments_lexer": "ipython3",
   "version": "3.9.12"
  }
 },
 "nbformat": 4,
 "nbformat_minor": 5
}
